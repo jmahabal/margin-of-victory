{
 "cells": [
  {
   "cell_type": "code",
   "execution_count": 3,
   "metadata": {
    "collapsed": false
   },
   "outputs": [],
   "source": [
    "import pandas as pd\n",
    "import matplotlib.pyplot as plt\n",
    "\n",
    "% matplotlib inline"
   ]
  },
  {
   "cell_type": "code",
   "execution_count": 4,
   "metadata": {
    "collapsed": false
   },
   "outputs": [],
   "source": [
    "# Get from: http://www.basketball-reference.com/\n",
    "mov = pd.read_csv(\"mov.csv\")\n",
    "teams = mov[\"Visitor/Neutral\"].unique()\n",
    "\n",
    "def get_mov(row):\n",
    "    return row[\"PTS1\"] - row[\"PTS2\"]\n",
    "    # Returns Visiting - Home\n",
    "\n",
    "mov[\"MOV\"] = mov.apply(lambda x: get_mov(x), axis=1)\n",
    "mov = mov[[\"Date\", \"Visitor/Neutral\", \"PTS1\", \"Home/Neutral\", \"PTS2\", \"MOV\"]]\n",
    "mov.columns = [\"Date\", \"Team1\", \"PTS1\", \"Team2\", \"PTS2\", \"MOV\"]\n",
    "\n",
    "# We need to switch Team1 and Team2, to make it easier to filter later on\n",
    "# Create a new DataFrame, and then concat the two\n",
    "mov2 = []\n",
    "for i, row in mov.iterrows():\n",
    "    mov2.append([row.Date, row.Team2, row.PTS2, row.Team1, row.PTS1, -row.MOV])\n",
    "    \n",
    "mov2 = pd.DataFrame(mov2)\n",
    "mov2.columns = mov.columns\n",
    "\n",
    "mov = pd.concat([mov, mov2])\n",
    "mov = mov.reset_index()\n",
    "\n",
    "mov.sort_values(\"index\").to_csv(\"all_mov.csv\")"
   ]
  },
  {
   "cell_type": "code",
   "execution_count": null,
   "metadata": {
    "collapsed": false
   },
   "outputs": [],
   "source": [
    "# Create our data visualization in matplotlib\n",
    "\n",
    "for team in teams:\n",
    "    teamframe = mov[mov[\"Team1\"] == team]\n",
    "    teamframe = teamframe.sort_values(\"index\")\n",
    "    print team\n",
    "    teamframe[\"MOV\"].plot(kind='bar')\n",
    "    plt.show()"
   ]
  },
  {
   "cell_type": "code",
   "execution_count": null,
   "metadata": {
    "collapsed": true
   },
   "outputs": [],
   "source": []
  }
 ],
 "metadata": {
  "kernelspec": {
   "display_name": "py27-test",
   "language": "python",
   "name": "py27-test"
  },
  "language_info": {
   "codemirror_mode": {
    "name": "ipython",
    "version": 2
   },
   "file_extension": ".py",
   "mimetype": "text/x-python",
   "name": "python",
   "nbconvert_exporter": "python",
   "pygments_lexer": "ipython2",
   "version": "2.7.13"
  }
 },
 "nbformat": 4,
 "nbformat_minor": 2
}
